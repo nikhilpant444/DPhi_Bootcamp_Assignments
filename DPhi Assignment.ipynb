{
 "cells": [
  {
   "cell_type": "markdown",
   "metadata": {},
   "source": [
    "Task 1\n",
    "\n",
    "We have declared a tuple containing five same elements as following: T = (‘python’, ‘python’, ‘python’, ‘python’, ‘python’). Re-write the same code in an optimal/simple way that fetches the same result."
   ]
  },
  {
   "cell_type": "code",
   "execution_count": null,
   "metadata": {},
   "outputs": [],
   "source": [
    "# T = ('python', 'python', 'python', 'python', 'python')\n",
    "t = ('python')\n",
    "print((t, ) * 5)"
   ]
  },
  {
   "cell_type": "markdown",
   "metadata": {},
   "source": [
    "Task 2\n",
    "\n",
    "Write code to print characters from a string that are present at an even index number. For example, if your input string is \"python\", the output characters will be (p,t,o)."
   ]
  },
  {
   "cell_type": "code",
   "execution_count": null,
   "metadata": {},
   "outputs": [],
   "source": [
    "str_1 = \"Lqeracrmnoilndgp aigsa afoulnx lwjiftzhl cDqPlhmi\"\n",
    "print(str_1[0:49:2])"
   ]
  },
  {
   "cell_type": "markdown",
   "metadata": {},
   "source": [
    "Task 3\n",
    "\n",
    "Write a function that calculates the average of the elements of the list:\n",
    "\n",
    "elements = [5, 7, 4, 9, 2]"
   ]
  },
  {
   "cell_type": "code",
   "execution_count": null,
   "metadata": {},
   "outputs": [],
   "source": [
    "elements = [5,7,4,9,2]\n",
    "def avg(elements):\n",
    "    x = sum(elements) / len(elements)\n",
    "    return(x)"
   ]
  },
  {
   "cell_type": "code",
   "execution_count": null,
   "metadata": {},
   "outputs": [],
   "source": [
    "avg(elements)"
   ]
  },
  {
   "cell_type": "markdown",
   "metadata": {},
   "source": [
    "Task 4\n",
    "\n",
    "Write code to find if the given year is a leap year or not."
   ]
  },
  {
   "cell_type": "code",
   "execution_count": null,
   "metadata": {},
   "outputs": [],
   "source": [
    "year = int(input(\"Enter the year: \"))\n",
    "if year % 4 == 0 and (year % 100 != 0 or year % 400 != 0):\n",
    "    print(\"This is a leap year\")\n",
    "else:\n",
    "    print(\"This is not a leap year\")"
   ]
  },
  {
   "cell_type": "markdown",
   "metadata": {},
   "source": [
    "Task 5\n",
    "\n",
    "Given a list of numbers (integers), find the sum of second maximum and second minimum in the following list.\n",
    "\n",
    "l = [21, 6, 12, 57, 35, 61]"
   ]
  },
  {
   "cell_type": "code",
   "execution_count": null,
   "metadata": {},
   "outputs": [],
   "source": [
    "l = [21, 6, 12, 57, 35, 61]\n",
    "l.sort()\n",
    "print(l)"
   ]
  },
  {
   "cell_type": "code",
   "execution_count": null,
   "metadata": {},
   "outputs": [],
   "source": [
    "# l[1] is the second minimum value and l[-2] is the second maximum value.\n",
    "\n",
    "print(l[1] + l[-2])"
   ]
  }
 ],
 "metadata": {
  "kernelspec": {
   "display_name": "Python 3",
   "language": "python",
   "name": "python3"
  },
  "language_info": {
   "codemirror_mode": {
    "name": "ipython",
    "version": 3
   },
   "file_extension": ".py",
   "mimetype": "text/x-python",
   "name": "python",
   "nbconvert_exporter": "python",
   "pygments_lexer": "ipython3",
   "version": "3.8.5"
  }
 },
 "nbformat": 4,
 "nbformat_minor": 4
}
