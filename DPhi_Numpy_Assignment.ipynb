{
 "cells": [
  {
   "cell_type": "markdown",
   "metadata": {},
   "source": [
    "Task 1:\n",
    "\n",
    "Construct a random 3x28x28 NumPy array called original to represent an image and then convert this into into a 1x(3x28x28) array called flat. This converts it into a single row of pixels. Next, convert this to a 1D array (flatten the array using flat.flatten()). Print shape of all arrays. You may use the random function to generate the array."
   ]
  },
  {
   "cell_type": "code",
   "execution_count": 4,
   "metadata": {},
   "outputs": [],
   "source": [
    "import numpy as np\n",
    "original = np.random.rand(3,28,28)"
   ]
  },
  {
   "cell_type": "code",
   "execution_count": 19,
   "metadata": {},
   "outputs": [
    {
     "data": {
      "text/plain": [
       "(3, 28, 28)"
      ]
     },
     "execution_count": 19,
     "metadata": {},
     "output_type": "execute_result"
    }
   ],
   "source": [
    "original.shape"
   ]
  },
  {
   "cell_type": "code",
   "execution_count": 16,
   "metadata": {},
   "outputs": [],
   "source": [
    "flat = original.reshape(1,3,28,28)"
   ]
  },
  {
   "cell_type": "code",
   "execution_count": 18,
   "metadata": {},
   "outputs": [
    {
     "data": {
      "text/plain": [
       "(1, 3, 28, 28)"
      ]
     },
     "execution_count": 18,
     "metadata": {},
     "output_type": "execute_result"
    }
   ],
   "source": [
    "flat.shape"
   ]
  },
  {
   "cell_type": "code",
   "execution_count": 21,
   "metadata": {},
   "outputs": [],
   "source": [
    "vector = flat.flatten()"
   ]
  },
  {
   "cell_type": "code",
   "execution_count": 23,
   "metadata": {},
   "outputs": [
    {
     "data": {
      "text/plain": [
       "(2352,)"
      ]
     },
     "execution_count": 23,
     "metadata": {},
     "output_type": "execute_result"
    }
   ],
   "source": [
    "vector.shape"
   ]
  },
  {
   "cell_type": "markdown",
   "metadata": {},
   "source": [
    "Task 2: Print out the following:\n",
    "\n",
    "dimension of the arrays.\n",
    "\n",
    "memory address of the arrays (pointer).\n",
    "\n",
    "shape of the arrays.\n",
    "\n",
    "data types of the arrays."
   ]
  },
  {
   "cell_type": "code",
   "execution_count": 33,
   "metadata": {},
   "outputs": [
    {
     "name": "stdout",
     "output_type": "stream",
     "text": [
      "3\n",
      "4\n",
      "1\n"
     ]
    }
   ],
   "source": [
    "# Dimensions of arrays\n",
    "\n",
    "print(original.ndim)\n",
    "print(flat.ndim)\n",
    "print(vector.ndim)"
   ]
  },
  {
   "cell_type": "code",
   "execution_count": 34,
   "metadata": {},
   "outputs": [
    {
     "name": "stdout",
     "output_type": "stream",
     "text": [
      "(3, 28, 28)\n",
      "(1, 3, 28, 28)\n",
      "(2352,)\n"
     ]
    }
   ],
   "source": [
    "# Shape of arrays\n",
    "\n",
    "print(original.shape)\n",
    "print(flat.shape)\n",
    "print(vector.shape)"
   ]
  },
  {
   "cell_type": "code",
   "execution_count": 37,
   "metadata": {},
   "outputs": [
    {
     "name": "stdout",
     "output_type": "stream",
     "text": [
      "float64\n",
      "float64\n",
      "float64\n"
     ]
    }
   ],
   "source": [
    "# Data type of arrays\n",
    "\n",
    "print(original.dtype)\n",
    "print(flat.dtype)\n",
    "print(vector.dtype)"
   ]
  },
  {
   "cell_type": "code",
   "execution_count": 55,
   "metadata": {},
   "outputs": [],
   "source": [
    "# Memory address of arrays\n",
    "\n",
    "pointer, read_only_flag = original.__array_interface__['data']\n",
    "pointer_1, read_only_flag = flat.__array_interface__['data']\n",
    "pointer_2, read_only_flag = vector.__array_interface__['data']"
   ]
  },
  {
   "cell_type": "code",
   "execution_count": 56,
   "metadata": {},
   "outputs": [
    {
     "name": "stdout",
     "output_type": "stream",
     "text": [
      "1749013158144\n",
      "1749013158144\n",
      "1749013222096\n"
     ]
    }
   ],
   "source": [
    "print(pointer)\n",
    "print(pointer_1)\n",
    "print(pointer_2)"
   ]
  },
  {
   "cell_type": "markdown",
   "metadata": {},
   "source": [
    "Task 3:\n",
    "\n",
    "Construct a new array which is a negative of the original array, i.e, all elements are negative of those in the original array. Print the new array. Add the original and new arrays. Print the result."
   ]
  },
  {
   "cell_type": "code",
   "execution_count": 60,
   "metadata": {},
   "outputs": [],
   "source": [
    "negative_array = np.negative(original)"
   ]
  },
  {
   "cell_type": "code",
   "execution_count": 61,
   "metadata": {},
   "outputs": [
    {
     "data": {
      "text/plain": [
       "array([[[-0.52131719, -0.27167922, -0.88671742, ..., -0.18447132,\n",
       "         -0.85294559, -0.15175654],\n",
       "        [-0.73184871, -0.49272661, -0.76136413, ..., -0.00878491,\n",
       "         -0.24844721, -0.70644615],\n",
       "        [-0.03349369, -0.96769629, -0.12926021, ..., -0.53994086,\n",
       "         -0.94313529, -0.1955702 ],\n",
       "        ...,\n",
       "        [-0.05808202, -0.01307237, -0.40591367, ..., -0.65929184,\n",
       "         -0.62269412, -0.53700196],\n",
       "        [-0.94689123, -0.53117318, -0.40197326, ..., -0.60758817,\n",
       "         -0.3854297 , -0.3581437 ],\n",
       "        [-0.98494376, -0.01122851, -0.56957193, ..., -0.84954515,\n",
       "         -0.39654863, -0.1463662 ]],\n",
       "\n",
       "       [[-0.09924753, -0.73030774, -0.75665588, ..., -0.25063681,\n",
       "         -0.7108475 , -0.89762728],\n",
       "        [-0.37233307, -0.75993521, -0.60881059, ..., -0.01016888,\n",
       "         -0.30826464, -0.98969588],\n",
       "        [-0.94169965, -0.66514002, -0.41950917, ..., -0.18380316,\n",
       "         -0.66029885, -0.86771963],\n",
       "        ...,\n",
       "        [-0.23958428, -0.58086008, -0.96197845, ..., -0.29198343,\n",
       "         -0.23393388, -0.94783325],\n",
       "        [-0.41900882, -0.67224982, -0.99375019, ..., -0.38142236,\n",
       "         -0.84294688, -0.48476835],\n",
       "        [-0.19088607, -0.0292664 , -0.15266955, ..., -0.30744639,\n",
       "         -0.79223018, -0.01792918]],\n",
       "\n",
       "       [[-0.4300983 , -0.74984904, -0.76141132, ..., -0.63284123,\n",
       "         -0.66483552, -0.39398558],\n",
       "        [-0.09221162, -0.90047409, -0.47239955, ..., -0.85930941,\n",
       "         -0.25670175, -0.4713918 ],\n",
       "        [-0.22914088, -0.69522215, -0.40563574, ..., -0.78248481,\n",
       "         -0.972489  , -0.06715365],\n",
       "        ...,\n",
       "        [-0.57115749, -0.1270665 , -0.94021669, ..., -0.8652335 ,\n",
       "         -0.20701522, -0.20486144],\n",
       "        [-0.24319619, -0.25427673, -0.22138459, ..., -0.61097734,\n",
       "         -0.31881613, -0.21479289],\n",
       "        [-0.49677501, -0.24658071, -0.0648021 , ..., -0.39015545,\n",
       "         -0.95847245, -0.86402524]]])"
      ]
     },
     "execution_count": 61,
     "metadata": {},
     "output_type": "execute_result"
    }
   ],
   "source": [
    "negative_array"
   ]
  },
  {
   "cell_type": "code",
   "execution_count": 62,
   "metadata": {},
   "outputs": [],
   "source": [
    "add_array = original + negative_array"
   ]
  },
  {
   "cell_type": "code",
   "execution_count": 65,
   "metadata": {},
   "outputs": [
    {
     "data": {
      "text/plain": [
       "array([[[0., 0., 0., ..., 0., 0., 0.],\n",
       "        [0., 0., 0., ..., 0., 0., 0.],\n",
       "        [0., 0., 0., ..., 0., 0., 0.],\n",
       "        ...,\n",
       "        [0., 0., 0., ..., 0., 0., 0.],\n",
       "        [0., 0., 0., ..., 0., 0., 0.],\n",
       "        [0., 0., 0., ..., 0., 0., 0.]],\n",
       "\n",
       "       [[0., 0., 0., ..., 0., 0., 0.],\n",
       "        [0., 0., 0., ..., 0., 0., 0.],\n",
       "        [0., 0., 0., ..., 0., 0., 0.],\n",
       "        ...,\n",
       "        [0., 0., 0., ..., 0., 0., 0.],\n",
       "        [0., 0., 0., ..., 0., 0., 0.],\n",
       "        [0., 0., 0., ..., 0., 0., 0.]],\n",
       "\n",
       "       [[0., 0., 0., ..., 0., 0., 0.],\n",
       "        [0., 0., 0., ..., 0., 0., 0.],\n",
       "        [0., 0., 0., ..., 0., 0., 0.],\n",
       "        ...,\n",
       "        [0., 0., 0., ..., 0., 0., 0.],\n",
       "        [0., 0., 0., ..., 0., 0., 0.],\n",
       "        [0., 0., 0., ..., 0., 0., 0.]]])"
      ]
     },
     "execution_count": 65,
     "metadata": {},
     "output_type": "execute_result"
    }
   ],
   "source": [
    "add_array"
   ]
  },
  {
   "cell_type": "markdown",
   "metadata": {},
   "source": [
    "Task 4\n",
    "\n",
    "A 3x28x28 basically means 28x28 matrices repeated three times. How would you access the first 10 elements of the 2nd row of the second 28x28 matrix? Consider the original array for this. Print the elements."
   ]
  },
  {
   "cell_type": "code",
   "execution_count": 27,
   "metadata": {},
   "outputs": [
    {
     "data": {
      "text/plain": [
       "array([0.18028979, 0.94328566, 0.31979758, 0.74629313, 0.12587211,\n",
       "       0.14414526, 0.68995129, 0.14598003, 0.21464729, 0.6555172 ])"
      ]
     },
     "execution_count": 27,
     "metadata": {},
     "output_type": "execute_result"
    }
   ],
   "source": [
    "original[1][1][:10]"
   ]
  },
  {
   "cell_type": "markdown",
   "metadata": {},
   "source": [
    "Task 5\n",
    "\n",
    "A 3x28x28 image means 3 channels of Red, Green, or Blue (Popularly known as RGB image). Each color channel has a height and width, which is 28X28 in this case. The entire picture can represented through this method. Print the shape of the Blue pixel matrix and its first 3 rows."
   ]
  },
  {
   "cell_type": "code",
   "execution_count": 18,
   "metadata": {
    "scrolled": true
   },
   "outputs": [
    {
     "data": {
      "text/plain": [
       "(28, 28)"
      ]
     },
     "execution_count": 18,
     "metadata": {},
     "output_type": "execute_result"
    }
   ],
   "source": [
    "original[2].shape"
   ]
  },
  {
   "cell_type": "code",
   "execution_count": 24,
   "metadata": {},
   "outputs": [
    {
     "data": {
      "text/plain": [
       "array([[0.3030422 , 0.53491535, 0.60736965, 0.08845053, 0.47237174,\n",
       "        0.31805409, 0.08105065, 0.48970171, 0.55229492, 0.39867649,\n",
       "        0.90831271, 0.33949975, 0.07867391, 0.9019824 , 0.27265574,\n",
       "        0.25540089, 0.05017877, 0.77491306, 0.27203648, 0.01268239,\n",
       "        0.67567188, 0.72385543, 0.89926971, 0.70090066, 0.03311328,\n",
       "        0.04054488, 0.2832992 , 0.21590293],\n",
       "       [0.58983212, 0.97150023, 0.19259755, 0.2679258 , 0.99361039,\n",
       "        0.5957245 , 0.64363189, 0.84796331, 0.38517271, 0.38055884,\n",
       "        0.9120018 , 0.72865008, 0.6952161 , 0.71400618, 0.45363408,\n",
       "        0.9630346 , 0.30586971, 0.65304095, 0.54401455, 0.90845528,\n",
       "        0.06658825, 0.17741271, 0.54517849, 0.15040657, 0.6074952 ,\n",
       "        0.45727074, 0.05946657, 0.99595466],\n",
       "       [0.10298573, 0.48708027, 0.99875361, 0.95653075, 0.32105701,\n",
       "        0.36769276, 0.15530146, 0.60157741, 0.79587629, 0.42441526,\n",
       "        0.50198682, 0.26430421, 0.55013545, 0.96619581, 0.94677442,\n",
       "        0.1058469 , 0.67586636, 0.68423715, 0.14994733, 0.51868397,\n",
       "        0.72967707, 0.43021615, 0.93879703, 0.47614676, 0.59164515,\n",
       "        0.56166812, 0.76434109, 0.23972319]])"
      ]
     },
     "execution_count": 24,
     "metadata": {},
     "output_type": "execute_result"
    }
   ],
   "source": [
    "original[2][1:4]"
   ]
  },
  {
   "cell_type": "markdown",
   "metadata": {},
   "source": [
    "Task 6\n",
    "\n",
    "Create a 1 dimensional numpy array of the first 50 even numbers. Convert this to a 10x5 numpy array and print its transpose."
   ]
  },
  {
   "cell_type": "code",
   "execution_count": 5,
   "metadata": {},
   "outputs": [
    {
     "data": {
      "text/plain": [
       "array([  2,   4,   6,   8,  10,  12,  14,  16,  18,  20,  22,  24,  26,\n",
       "        28,  30,  32,  34,  36,  38,  40,  42,  44,  46,  48,  50,  52,\n",
       "        54,  56,  58,  60,  62,  64,  66,  68,  70,  72,  74,  76,  78,\n",
       "        80,  82,  84,  86,  88,  90,  92,  94,  96,  98, 100])"
      ]
     },
     "execution_count": 5,
     "metadata": {},
     "output_type": "execute_result"
    }
   ],
   "source": [
    "even_array = np.arange(2,101,2)\n",
    "even_array"
   ]
  },
  {
   "cell_type": "code",
   "execution_count": 75,
   "metadata": {},
   "outputs": [
    {
     "data": {
      "text/plain": [
       "array([[  2,   4,   6,   8,  10],\n",
       "       [ 12,  14,  16,  18,  20],\n",
       "       [ 22,  24,  26,  28,  30],\n",
       "       [ 32,  34,  36,  38,  40],\n",
       "       [ 42,  44,  46,  48,  50],\n",
       "       [ 52,  54,  56,  58,  60],\n",
       "       [ 62,  64,  66,  68,  70],\n",
       "       [ 72,  74,  76,  78,  80],\n",
       "       [ 82,  84,  86,  88,  90],\n",
       "       [ 92,  94,  96,  98, 100]])"
      ]
     },
     "execution_count": 75,
     "metadata": {},
     "output_type": "execute_result"
    }
   ],
   "source": [
    "new_array = np.reshape(even_array, (10,5))\n",
    "new_array"
   ]
  },
  {
   "cell_type": "code",
   "execution_count": 76,
   "metadata": {},
   "outputs": [
    {
     "data": {
      "text/plain": [
       "array([[  2,  12,  22,  32,  42,  52,  62,  72,  82,  92],\n",
       "       [  4,  14,  24,  34,  44,  54,  64,  74,  84,  94],\n",
       "       [  6,  16,  26,  36,  46,  56,  66,  76,  86,  96],\n",
       "       [  8,  18,  28,  38,  48,  58,  68,  78,  88,  98],\n",
       "       [ 10,  20,  30,  40,  50,  60,  70,  80,  90, 100]])"
      ]
     },
     "execution_count": 76,
     "metadata": {},
     "output_type": "execute_result"
    }
   ],
   "source": [
    "new_array.transpose()"
   ]
  },
  {
   "cell_type": "markdown",
   "metadata": {},
   "source": [
    "Task 7\n",
    "\n",
    "Consider the 10x5 array created in Task 6. Find the mean of each row and column. You may use in built functions or write your own code."
   ]
  },
  {
   "cell_type": "code",
   "execution_count": 98,
   "metadata": {},
   "outputs": [
    {
     "data": {
      "text/plain": [
       "(47.0, 49.0)"
      ]
     },
     "execution_count": 98,
     "metadata": {},
     "output_type": "execute_result"
    }
   ],
   "source": [
    "new_array[:,0].mean(), new_array[:,1].mean()"
   ]
  },
  {
   "cell_type": "markdown",
   "metadata": {},
   "source": [
    "Task 8\n",
    "\n",
    "Can we create a 3x3 array of the first 50 even numbers? Why or why not? What are other values of m and n for which mxn dimension is allowed for 50 elements?"
   ]
  },
  {
   "cell_type": "code",
   "execution_count": 6,
   "metadata": {},
   "outputs": [
    {
     "data": {
      "text/plain": [
       "array([  2,   4,   6,   8,  10,  12,  14,  16,  18,  20,  22,  24,  26,\n",
       "        28,  30,  32,  34,  36,  38,  40,  42,  44,  46,  48,  50,  52,\n",
       "        54,  56,  58,  60,  62,  64,  66,  68,  70,  72,  74,  76,  78,\n",
       "        80,  82,  84,  86,  88,  90,  92,  94,  96,  98, 100])"
      ]
     },
     "execution_count": 6,
     "metadata": {},
     "output_type": "execute_result"
    }
   ],
   "source": [
    "even_array"
   ]
  },
  {
   "cell_type": "code",
   "execution_count": 7,
   "metadata": {},
   "outputs": [
    {
     "ename": "ValueError",
     "evalue": "cannot reshape array of size 50 into shape (3,3)",
     "output_type": "error",
     "traceback": [
      "\u001b[1;31m---------------------------------------------------------------------------\u001b[0m",
      "\u001b[1;31mValueError\u001b[0m                                Traceback (most recent call last)",
      "\u001b[1;32m<ipython-input-7-8a5d264255d2>\u001b[0m in \u001b[0;36m<module>\u001b[1;34m\u001b[0m\n\u001b[1;32m----> 1\u001b[1;33m \u001b[0meven_array\u001b[0m\u001b[1;33m.\u001b[0m\u001b[0mreshape\u001b[0m\u001b[1;33m(\u001b[0m\u001b[1;36m3\u001b[0m\u001b[1;33m,\u001b[0m\u001b[1;36m3\u001b[0m\u001b[1;33m)\u001b[0m\u001b[1;33m\u001b[0m\u001b[1;33m\u001b[0m\u001b[0m\n\u001b[0m",
      "\u001b[1;31mValueError\u001b[0m: cannot reshape array of size 50 into shape (3,3)"
     ]
    }
   ],
   "source": [
    "even_array.reshape(3,3)"
   ]
  },
  {
   "cell_type": "code",
   "execution_count": 8,
   "metadata": {},
   "outputs": [
    {
     "name": "stdout",
     "output_type": "stream",
     "text": [
      "We cannot create an array of 3x3 because the total number of elements are not multiples of 3. The other values for which mxn dimensions are allowed are 2,5,10,25.\n"
     ]
    }
   ],
   "source": [
    "print(\"We cannot create an array of 3x3 because the total number of elements are not multiples of 3. The other values for which mxn dimensions are allowed are 2,5,10,25.\")"
   ]
  },
  {
   "cell_type": "code",
   "execution_count": null,
   "metadata": {},
   "outputs": [],
   "source": []
  }
 ],
 "metadata": {
  "kernelspec": {
   "display_name": "Python 3",
   "language": "python",
   "name": "python3"
  },
  "language_info": {
   "codemirror_mode": {
    "name": "ipython",
    "version": 3
   },
   "file_extension": ".py",
   "mimetype": "text/x-python",
   "name": "python",
   "nbconvert_exporter": "python",
   "pygments_lexer": "ipython3",
   "version": "3.8.5"
  }
 },
 "nbformat": 4,
 "nbformat_minor": 4
}
